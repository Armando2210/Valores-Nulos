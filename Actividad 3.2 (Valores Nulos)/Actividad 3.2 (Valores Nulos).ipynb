{
 "cells": [
  {
   "cell_type": "code",
   "execution_count": 15,
   "metadata": {},
   "outputs": [],
   "source": [
    "import pandas as pd\n",
    "import numpy as np\n",
    "import matplotlib.pyplot as plt"
   ]
  },
  {
   "cell_type": "code",
   "execution_count": 16,
   "metadata": {},
   "outputs": [
    {
     "data": {
      "text/html": [
       "<div>\n",
       "<style scoped>\n",
       "    .dataframe tbody tr th:only-of-type {\n",
       "        vertical-align: middle;\n",
       "    }\n",
       "\n",
       "    .dataframe tbody tr th {\n",
       "        vertical-align: top;\n",
       "    }\n",
       "\n",
       "    .dataframe thead th {\n",
       "        text-align: right;\n",
       "    }\n",
       "</style>\n",
       "<table border=\"1\" class=\"dataframe\">\n",
       "  <thead>\n",
       "    <tr style=\"text-align: right;\">\n",
       "      <th></th>\n",
       "      <th>id</th>\n",
       "      <th>listing_url</th>\n",
       "      <th>host_id</th>\n",
       "      <th>host_since</th>\n",
       "      <th>host_response_time</th>\n",
       "      <th>host_response_rate</th>\n",
       "      <th>host_acceptance_rate</th>\n",
       "      <th>host_is_superhost</th>\n",
       "      <th>host_listings_count</th>\n",
       "      <th>host_total_listings_count</th>\n",
       "      <th>...</th>\n",
       "      <th>review_scores_checkin</th>\n",
       "      <th>review_scores_communication</th>\n",
       "      <th>review_scores_location</th>\n",
       "      <th>review_scores_value</th>\n",
       "      <th>instant_bookable</th>\n",
       "      <th>calculated_host_listings_count</th>\n",
       "      <th>calculated_host_listings_count_entire_homes</th>\n",
       "      <th>calculated_host_listings_count_private_rooms</th>\n",
       "      <th>calculated_host_listings_count_shared_rooms</th>\n",
       "      <th>reviews_per_month</th>\n",
       "    </tr>\n",
       "  </thead>\n",
       "  <tbody>\n",
       "    <tr>\n",
       "      <th>0</th>\n",
       "      <td>97945.0</td>\n",
       "      <td>https://www.airbnb.com/rooms/97945</td>\n",
       "      <td>517685</td>\n",
       "      <td>18/04/2011</td>\n",
       "      <td>a few days or more</td>\n",
       "      <td>0%</td>\n",
       "      <td>6%</td>\n",
       "      <td>f</td>\n",
       "      <td>2</td>\n",
       "      <td>3</td>\n",
       "      <td>...</td>\n",
       "      <td>4.90</td>\n",
       "      <td>4.93</td>\n",
       "      <td>4.78</td>\n",
       "      <td>4.73</td>\n",
       "      <td>f</td>\n",
       "      <td>2</td>\n",
       "      <td>2</td>\n",
       "      <td>0</td>\n",
       "      <td>0</td>\n",
       "      <td>0.80</td>\n",
       "    </tr>\n",
       "    <tr>\n",
       "      <th>1</th>\n",
       "      <td>114695.0</td>\n",
       "      <td>https://www.airbnb.com/rooms/114695</td>\n",
       "      <td>581737</td>\n",
       "      <td>12/05/2011</td>\n",
       "      <td>within an hour</td>\n",
       "      <td>100%</td>\n",
       "      <td>99%</td>\n",
       "      <td>t</td>\n",
       "      <td>3</td>\n",
       "      <td>3</td>\n",
       "      <td>...</td>\n",
       "      <td>4.97</td>\n",
       "      <td>5.00</td>\n",
       "      <td>4.66</td>\n",
       "      <td>4.61</td>\n",
       "      <td>f</td>\n",
       "      <td>3</td>\n",
       "      <td>3</td>\n",
       "      <td>0</td>\n",
       "      <td>0</td>\n",
       "      <td>0.46</td>\n",
       "    </tr>\n",
       "    <tr>\n",
       "      <th>2</th>\n",
       "      <td>127383.0</td>\n",
       "      <td>https://www.airbnb.com/rooms/127383</td>\n",
       "      <td>630556</td>\n",
       "      <td>26/05/2011</td>\n",
       "      <td>within an hour</td>\n",
       "      <td>100%</td>\n",
       "      <td>92%</td>\n",
       "      <td>f</td>\n",
       "      <td>2</td>\n",
       "      <td>2</td>\n",
       "      <td>...</td>\n",
       "      <td>4.98</td>\n",
       "      <td>4.96</td>\n",
       "      <td>4.91</td>\n",
       "      <td>4.81</td>\n",
       "      <td>f</td>\n",
       "      <td>1</td>\n",
       "      <td>1</td>\n",
       "      <td>0</td>\n",
       "      <td>0</td>\n",
       "      <td>0.71</td>\n",
       "    </tr>\n",
       "    <tr>\n",
       "      <th>3</th>\n",
       "      <td>159634.0</td>\n",
       "      <td>https://www.airbnb.com/rooms/159634</td>\n",
       "      <td>765694</td>\n",
       "      <td>01/07/2011</td>\n",
       "      <td>within an hour</td>\n",
       "      <td>100%</td>\n",
       "      <td>78%</td>\n",
       "      <td>f</td>\n",
       "      <td>1</td>\n",
       "      <td>1</td>\n",
       "      <td>...</td>\n",
       "      <td>4.78</td>\n",
       "      <td>4.80</td>\n",
       "      <td>4.59</td>\n",
       "      <td>4.44</td>\n",
       "      <td>t</td>\n",
       "      <td>1</td>\n",
       "      <td>1</td>\n",
       "      <td>0</td>\n",
       "      <td>0</td>\n",
       "      <td>0.26</td>\n",
       "    </tr>\n",
       "    <tr>\n",
       "      <th>4</th>\n",
       "      <td>170154.0</td>\n",
       "      <td>https://www.airbnb.com/rooms/170154</td>\n",
       "      <td>108297</td>\n",
       "      <td>14/04/2010</td>\n",
       "      <td>within a few hours</td>\n",
       "      <td>100%</td>\n",
       "      <td>100%</td>\n",
       "      <td>t</td>\n",
       "      <td>1</td>\n",
       "      <td>1</td>\n",
       "      <td>...</td>\n",
       "      <td>4.99</td>\n",
       "      <td>4.98</td>\n",
       "      <td>4.77</td>\n",
       "      <td>4.91</td>\n",
       "      <td>f</td>\n",
       "      <td>1</td>\n",
       "      <td>0</td>\n",
       "      <td>1</td>\n",
       "      <td>0</td>\n",
       "      <td>3.58</td>\n",
       "    </tr>\n",
       "  </tbody>\n",
       "</table>\n",
       "<p>5 rows × 50 columns</p>\n",
       "</div>"
      ],
      "text/plain": [
       "         id                          listing_url  host_id  host_since  \\\n",
       "0   97945.0   https://www.airbnb.com/rooms/97945   517685  18/04/2011   \n",
       "1  114695.0  https://www.airbnb.com/rooms/114695   581737  12/05/2011   \n",
       "2  127383.0  https://www.airbnb.com/rooms/127383   630556  26/05/2011   \n",
       "3  159634.0  https://www.airbnb.com/rooms/159634   765694  01/07/2011   \n",
       "4  170154.0  https://www.airbnb.com/rooms/170154   108297  14/04/2010   \n",
       "\n",
       "   host_response_time host_response_rate host_acceptance_rate  \\\n",
       "0  a few days or more                 0%                   6%   \n",
       "1      within an hour               100%                  99%   \n",
       "2      within an hour               100%                  92%   \n",
       "3      within an hour               100%                  78%   \n",
       "4  within a few hours               100%                 100%   \n",
       "\n",
       "  host_is_superhost  host_listings_count  host_total_listings_count  ...  \\\n",
       "0                 f                    2                          3  ...   \n",
       "1                 t                    3                          3  ...   \n",
       "2                 f                    2                          2  ...   \n",
       "3                 f                    1                          1  ...   \n",
       "4                 t                    1                          1  ...   \n",
       "\n",
       "  review_scores_checkin review_scores_communication  review_scores_location  \\\n",
       "0                  4.90                        4.93                    4.78   \n",
       "1                  4.97                        5.00                    4.66   \n",
       "2                  4.98                        4.96                    4.91   \n",
       "3                  4.78                        4.80                    4.59   \n",
       "4                  4.99                        4.98                    4.77   \n",
       "\n",
       "   review_scores_value instant_bookable calculated_host_listings_count  \\\n",
       "0                 4.73                f                              2   \n",
       "1                 4.61                f                              3   \n",
       "2                 4.81                f                              1   \n",
       "3                 4.44                t                              1   \n",
       "4                 4.91                f                              1   \n",
       "\n",
       "   calculated_host_listings_count_entire_homes  \\\n",
       "0                                            2   \n",
       "1                                            3   \n",
       "2                                            1   \n",
       "3                                            1   \n",
       "4                                            0   \n",
       "\n",
       "   calculated_host_listings_count_private_rooms  \\\n",
       "0                                             0   \n",
       "1                                             0   \n",
       "2                                             0   \n",
       "3                                             0   \n",
       "4                                             1   \n",
       "\n",
       "  calculated_host_listings_count_shared_rooms  reviews_per_month  \n",
       "0                                           0               0.80  \n",
       "1                                           0               0.46  \n",
       "2                                           0               0.71  \n",
       "3                                           0               0.26  \n",
       "4                                           0               3.58  \n",
       "\n",
       "[5 rows x 50 columns]"
      ]
     },
     "execution_count": 16,
     "metadata": {},
     "output_type": "execute_result"
    }
   ],
   "source": [
    "#carga desde un archivo .csv sin indice \n",
    "data = pd.read_csv('listings.csv')\n",
    "data.head(5)"
   ]
  },
  {
   "cell_type": "code",
   "execution_count": 17,
   "metadata": {},
   "outputs": [
    {
     "name": "stdout",
     "output_type": "stream",
     "text": [
      "host_response_time             2168\n",
      "host_response_rate             2168\n",
      "host_acceptance_rate           1590\n",
      "host_is_superhost                69\n",
      "bathrooms                      2202\n",
      "bathrooms_text                   11\n",
      "bedrooms                        715\n",
      "beds                           2201\n",
      "price                          2195\n",
      "has_availability                309\n",
      "first_review                   2071\n",
      "last_review                    2071\n",
      "review_scores_rating           2071\n",
      "review_scores_accuracy         2071\n",
      "review_scores_cleanliness      2071\n",
      "review_scores_checkin          2071\n",
      "review_scores_communication    2071\n",
      "review_scores_location         2071\n",
      "review_scores_value            2071\n",
      "reviews_per_month              2071\n",
      "dtype: int64\n"
     ]
    }
   ],
   "source": [
    "# Identificar y mostrar columnas con valores nulos\n",
    "valores_nulos = data.isnull().sum()\n",
    "valores_nulos = valores_nulos[valores_nulos > 0]  # Filtrar solo columnas con nulos\n",
    "\n",
    "print(valores_nulos)\n"
   ]
  },
  {
   "cell_type": "code",
   "execution_count": 18,
   "metadata": {},
   "outputs": [
    {
     "data": {
      "text/plain": [
       "np.int64(34338)"
      ]
     },
     "execution_count": 18,
     "metadata": {},
     "output_type": "execute_result"
    }
   ],
   "source": [
    "#Identificar cuantos valores nulos tengo por columna \n",
    "valores_nulos = data.isnull().sum().sum()\n",
    "valores_nulos"
   ]
  },
  {
   "cell_type": "code",
   "execution_count": 19,
   "metadata": {},
   "outputs": [
    {
     "data": {
      "text/plain": [
       "id                                                 0\n",
       "listing_url                                        0\n",
       "host_id                                            0\n",
       "host_since                                         0\n",
       "host_response_time                              2168\n",
       "host_response_rate                              2168\n",
       "host_acceptance_rate                            1590\n",
       "host_is_superhost                                 69\n",
       "host_listings_count                                0\n",
       "host_total_listings_count                          0\n",
       "host_verifications                                 0\n",
       "neighbourhood_cleansed                             0\n",
       "latitude                                           0\n",
       "longitude                                          0\n",
       "property_type                                      0\n",
       "room_type                                          0\n",
       "accommodates                                       0\n",
       "bathrooms                                       2202\n",
       "bathrooms_text                                    11\n",
       "bedrooms                                         715\n",
       "beds                                            2201\n",
       "amenities                                          0\n",
       "price                                           2195\n",
       "minimum_nights                                     0\n",
       "maximum_nights                                     0\n",
       "minimum_nights_avg_ntm                             0\n",
       "maximum_nights_avg_ntm                             0\n",
       "has_availability                                 309\n",
       "availability_30                                    0\n",
       "availability_60                                    0\n",
       "availability_90                                    0\n",
       "availability_365                                   0\n",
       "number_of_reviews                                  0\n",
       "number_of_reviews_ltm                              0\n",
       "number_of_reviews_l30d                             0\n",
       "first_review                                    2071\n",
       "last_review                                     2071\n",
       "review_scores_rating                            2071\n",
       "review_scores_accuracy                          2071\n",
       "review_scores_cleanliness                       2071\n",
       "review_scores_checkin                           2071\n",
       "review_scores_communication                     2071\n",
       "review_scores_location                          2071\n",
       "review_scores_value                             2071\n",
       "instant_bookable                                   0\n",
       "calculated_host_listings_count                     0\n",
       "calculated_host_listings_count_entire_homes        0\n",
       "calculated_host_listings_count_private_rooms       0\n",
       "calculated_host_listings_count_shared_rooms        0\n",
       "reviews_per_month                               2071\n",
       "dtype: int64"
      ]
     },
     "execution_count": 19,
     "metadata": {},
     "output_type": "execute_result"
    }
   ],
   "source": [
    "#Corroboramos valores nulos\n",
    "valores_nulos = data.isnull().sum()\n",
    "valores_nulos"
   ]
  },
  {
   "cell_type": "code",
   "execution_count": 20,
   "metadata": {},
   "outputs": [
    {
     "name": "stdout",
     "output_type": "stream",
     "text": [
      "50\n"
     ]
    }
   ],
   "source": [
    "# df =pd.read_csv('listings.csv')\n",
    "num_columnas = len(data.columns)\n",
    "print(num_columnas)"
   ]
  },
  {
   "cell_type": "markdown",
   "metadata": {},
   "source": [
    "**Métodos de Sustitución de Valores Nulos**"
   ]
  },
  {
   "cell_type": "code",
   "execution_count": 21,
   "metadata": {},
   "outputs": [],
   "source": [
    "#Realizamos una copia del dataframe \n",
    "data2= data.copy()"
   ]
  },
  {
   "cell_type": "code",
   "execution_count": 22,
   "metadata": {},
   "outputs": [
    {
     "name": "stdout",
     "output_type": "stream",
     "text": [
      "<class 'pandas.core.frame.DataFrame'>\n",
      "RangeIndex: 8021 entries, 0 to 8020\n",
      "Data columns (total 50 columns):\n",
      " #   Column                                        Non-Null Count  Dtype  \n",
      "---  ------                                        --------------  -----  \n",
      " 0   id                                            8021 non-null   float64\n",
      " 1   listing_url                                   8021 non-null   object \n",
      " 2   host_id                                       8021 non-null   int64  \n",
      " 3   host_since                                    8021 non-null   object \n",
      " 4   host_response_time                            5853 non-null   object \n",
      " 5   host_response_rate                            5853 non-null   object \n",
      " 6   host_acceptance_rate                          6431 non-null   object \n",
      " 7   host_is_superhost                             7952 non-null   object \n",
      " 8   host_listings_count                           8021 non-null   int64  \n",
      " 9   host_total_listings_count                     8021 non-null   int64  \n",
      " 10  host_verifications                            8021 non-null   object \n",
      " 11  neighbourhood_cleansed                        8021 non-null   object \n",
      " 12  latitude                                      8021 non-null   float64\n",
      " 13  longitude                                     8021 non-null   float64\n",
      " 14  property_type                                 8021 non-null   object \n",
      " 15  room_type                                     8021 non-null   object \n",
      " 16  accommodates                                  8021 non-null   int64  \n",
      " 17  bathrooms                                     5819 non-null   float64\n",
      " 18  bathrooms_text                                8010 non-null   object \n",
      " 19  bedrooms                                      7306 non-null   float64\n",
      " 20  beds                                          5820 non-null   float64\n",
      " 21  amenities                                     8021 non-null   object \n",
      " 22  price                                         5826 non-null   object \n",
      " 23  minimum_nights                                8021 non-null   int64  \n",
      " 24  maximum_nights                                8021 non-null   int64  \n",
      " 25  minimum_nights_avg_ntm                        8021 non-null   float64\n",
      " 26  maximum_nights_avg_ntm                        8021 non-null   float64\n",
      " 27  has_availability                              7712 non-null   object \n",
      " 28  availability_30                               8021 non-null   int64  \n",
      " 29  availability_60                               8021 non-null   int64  \n",
      " 30  availability_90                               8021 non-null   int64  \n",
      " 31  availability_365                              8021 non-null   int64  \n",
      " 32  number_of_reviews                             8021 non-null   int64  \n",
      " 33  number_of_reviews_ltm                         8021 non-null   int64  \n",
      " 34  number_of_reviews_l30d                        8021 non-null   int64  \n",
      " 35  first_review                                  5950 non-null   object \n",
      " 36  last_review                                   5950 non-null   object \n",
      " 37  review_scores_rating                          5950 non-null   float64\n",
      " 38  review_scores_accuracy                        5950 non-null   float64\n",
      " 39  review_scores_cleanliness                     5950 non-null   float64\n",
      " 40  review_scores_checkin                         5950 non-null   float64\n",
      " 41  review_scores_communication                   5950 non-null   float64\n",
      " 42  review_scores_location                        5950 non-null   float64\n",
      " 43  review_scores_value                           5950 non-null   float64\n",
      " 44  instant_bookable                              8021 non-null   object \n",
      " 45  calculated_host_listings_count                8021 non-null   int64  \n",
      " 46  calculated_host_listings_count_entire_homes   8021 non-null   int64  \n",
      " 47  calculated_host_listings_count_private_rooms  8021 non-null   int64  \n",
      " 48  calculated_host_listings_count_shared_rooms   8021 non-null   int64  \n",
      " 49  reviews_per_month                             5950 non-null   float64\n",
      "dtypes: float64(16), int64(17), object(17)\n",
      "memory usage: 3.1+ MB\n"
     ]
    }
   ],
   "source": [
    "data2.info()"
   ]
  },
  {
   "cell_type": "code",
   "execution_count": 23,
   "metadata": {},
   "outputs": [],
   "source": [
    "data2[\"host_response_time\"] = data2[\"host_response_time\"].fillna(\"Estado de manera desconocida\")"
   ]
  },
  {
   "cell_type": "code",
   "execution_count": 25,
   "metadata": {},
   "outputs": [
    {
     "name": "stdout",
     "output_type": "stream",
     "text": [
      "host_response_rate             2168\n",
      "host_acceptance_rate           1590\n",
      "host_is_superhost                69\n",
      "bathrooms                      2202\n",
      "bathrooms_text                   11\n",
      "bedrooms                        715\n",
      "beds                           2201\n",
      "price                          2195\n",
      "has_availability                309\n",
      "first_review                   2071\n",
      "last_review                    2071\n",
      "review_scores_rating           2071\n",
      "review_scores_accuracy         2071\n",
      "review_scores_cleanliness      2071\n",
      "review_scores_checkin          2071\n",
      "review_scores_communication    2071\n",
      "review_scores_location         2071\n",
      "review_scores_value            2071\n",
      "reviews_per_month              2071\n",
      "dtype: int64\n"
     ]
    }
   ],
   "source": [
    "# Identificar y mostrar columnas con valores nulos\n",
    "valores_nulos = data2.isnull().sum()\n",
    "valores_nulos = valores_nulos[valores_nulos > 0]  # Filtrar solo columnas con nulos\n",
    "\n",
    "print(valores_nulos)"
   ]
  },
  {
   "cell_type": "code",
   "execution_count": 27,
   "metadata": {},
   "outputs": [
    {
     "name": "stderr",
     "output_type": "stream",
     "text": [
      "C:\\Users\\ramos\\AppData\\Local\\Temp\\ipykernel_300\\3698680681.py:4: FutureWarning: Series.fillna with 'method' is deprecated and will raise in a future version. Use obj.ffill() or obj.bfill() instead.\n",
      "  data2[\"host_response_rate\"] = data2[\"host_response_rate\"].fillna(method=\"ffill\")\n"
     ]
    }
   ],
   "source": [
    "#Quinto método de sustitución de valores nulos \n",
    "#Sustituir valores nulos por valores no nulos hacia adelante \"forward fill\" (\"ffill\")\n",
    "#Filtro por columnas\n",
    "data2[\"host_response_rate\"] = data2[\"host_response_rate\"].fillna(method=\"ffill\")"
   ]
  },
  {
   "cell_type": "code",
   "execution_count": 28,
   "metadata": {},
   "outputs": [
    {
     "name": "stdout",
     "output_type": "stream",
     "text": [
      "host_acceptance_rate           1590\n",
      "host_is_superhost                69\n",
      "bathrooms                      2202\n",
      "bathrooms_text                   11\n",
      "bedrooms                        715\n",
      "beds                           2201\n",
      "price                          2195\n",
      "has_availability                309\n",
      "first_review                   2071\n",
      "last_review                    2071\n",
      "review_scores_rating           2071\n",
      "review_scores_accuracy         2071\n",
      "review_scores_cleanliness      2071\n",
      "review_scores_checkin          2071\n",
      "review_scores_communication    2071\n",
      "review_scores_location         2071\n",
      "review_scores_value            2071\n",
      "reviews_per_month              2071\n",
      "dtype: int64\n"
     ]
    }
   ],
   "source": [
    "# Identificar y mostrar columnas con valores nulos\n",
    "valores_nulos = data2.isnull().sum()\n",
    "valores_nulos = valores_nulos[valores_nulos > 0]  # Filtrar solo columnas con nulos\n",
    "\n",
    "print(valores_nulos)"
   ]
  },
  {
   "cell_type": "code",
   "execution_count": 33,
   "metadata": {},
   "outputs": [
    {
     "name": "stderr",
     "output_type": "stream",
     "text": [
      "C:\\Users\\ramos\\AppData\\Local\\Temp\\ipykernel_300\\4243326285.py:4: FutureWarning: Series.fillna with 'method' is deprecated and will raise in a future version. Use obj.ffill() or obj.bfill() instead.\n",
      "  data2[\"host_acceptance_rate\"] = data2[\"host_acceptance_rate\"].fillna(method=\"ffill\")\n"
     ]
    }
   ],
   "source": [
    "#Sexto método de sustitución de valores nulos \n",
    "#Sustituir valores nulos por valores no nulos hacia atrás backward fill (\"bfill\")\n",
    "#Filtro por columnas \n",
    "data2[\"host_acceptance_rate\"] = data2[\"host_acceptance_rate\"].fillna(method=\"bfill\")\n",
    "#La variable requirio dos tecnicas, ya que con el bfill, faltaron 8, con un ffill se pudieron quitar los últimos 8 nulos que quedaban\n",
    "# data2[\"host_acceptance_rate\"] = data2[\"host_acceptance_rate\"].fillna(method=\"ffill\")"
   ]
  },
  {
   "cell_type": "code",
   "execution_count": 35,
   "metadata": {},
   "outputs": [
    {
     "name": "stdout",
     "output_type": "stream",
     "text": [
      "host_is_superhost                69\n",
      "bathrooms                      2202\n",
      "bathrooms_text                   11\n",
      "bedrooms                        715\n",
      "beds                           2201\n",
      "price                          2195\n",
      "has_availability                309\n",
      "first_review                   2071\n",
      "last_review                    2071\n",
      "review_scores_rating           2071\n",
      "review_scores_accuracy         2071\n",
      "review_scores_cleanliness      2071\n",
      "review_scores_checkin          2071\n",
      "review_scores_communication    2071\n",
      "review_scores_location         2071\n",
      "review_scores_value            2071\n",
      "reviews_per_month              2071\n",
      "dtype: int64\n"
     ]
    }
   ],
   "source": [
    "# Identificar y mostrar columnas con valores nulos\n",
    "valores_nulos = data2.isnull().sum()\n",
    "valores_nulos = valores_nulos[valores_nulos > 0]  # Filtrar solo columnas con nulos\n",
    "\n",
    "print(valores_nulos)"
   ]
  },
  {
   "cell_type": "code",
   "execution_count": null,
   "metadata": {},
   "outputs": [],
   "source": [
    "# Identificar y mostrar columnas con valores nulos\n",
    "valores_nulos = data2.isnull().sum()\n",
    "valores_nulos"
   ]
  },
  {
   "cell_type": "code",
   "execution_count": 37,
   "metadata": {},
   "outputs": [],
   "source": [
    "#Cuarto método de sustitución de valores nulos\n",
    "#Sustituir valores nulos por string en concreto\n",
    "data2[\"host_is_superhost\"] = data2[\"host_is_superhost\"].fillna(\"Sin identificar\")"
   ]
  },
  {
   "cell_type": "code",
   "execution_count": 38,
   "metadata": {},
   "outputs": [
    {
     "name": "stdout",
     "output_type": "stream",
     "text": [
      "bathrooms                      2202\n",
      "bathrooms_text                   11\n",
      "bedrooms                        715\n",
      "beds                           2201\n",
      "price                          2195\n",
      "has_availability                309\n",
      "first_review                   2071\n",
      "last_review                    2071\n",
      "review_scores_rating           2071\n",
      "review_scores_accuracy         2071\n",
      "review_scores_cleanliness      2071\n",
      "review_scores_checkin          2071\n",
      "review_scores_communication    2071\n",
      "review_scores_location         2071\n",
      "review_scores_value            2071\n",
      "reviews_per_month              2071\n",
      "dtype: int64\n"
     ]
    }
   ],
   "source": [
    "# Identificar y mostrar columnas con valores nulos\n",
    "valores_nulos = data2.isnull().sum()\n",
    "valores_nulos = valores_nulos[valores_nulos > 0]  # Filtrar solo columnas con nulos\n",
    "\n",
    "print(valores_nulos)"
   ]
  },
  {
   "cell_type": "code",
   "execution_count": 39,
   "metadata": {},
   "outputs": [],
   "source": [
    "#Primer método de sustitución de valores nulos\n",
    "#Sustituir nulos con promedio o media\n",
    "data2[\"bathrooms\"] = data2[\"bathrooms\"].fillna(round(data[\"bathrooms\"].mean(),1))"
   ]
  },
  {
   "cell_type": "code",
   "execution_count": 40,
   "metadata": {},
   "outputs": [
    {
     "name": "stdout",
     "output_type": "stream",
     "text": [
      "bathrooms_text                   11\n",
      "bedrooms                        715\n",
      "beds                           2201\n",
      "price                          2195\n",
      "has_availability                309\n",
      "first_review                   2071\n",
      "last_review                    2071\n",
      "review_scores_rating           2071\n",
      "review_scores_accuracy         2071\n",
      "review_scores_cleanliness      2071\n",
      "review_scores_checkin          2071\n",
      "review_scores_communication    2071\n",
      "review_scores_location         2071\n",
      "review_scores_value            2071\n",
      "reviews_per_month              2071\n",
      "dtype: int64\n"
     ]
    }
   ],
   "source": [
    "# Identificar y mostrar columnas con valores nulos\n",
    "valores_nulos = data2.isnull().sum()\n",
    "valores_nulos = valores_nulos[valores_nulos > 0]  # Filtrar solo columnas con nulos\n",
    "\n",
    "print(valores_nulos)"
   ]
  },
  {
   "cell_type": "code",
   "execution_count": 42,
   "metadata": {},
   "outputs": [
    {
     "name": "stderr",
     "output_type": "stream",
     "text": [
      "C:\\Users\\ramos\\AppData\\Local\\Temp\\ipykernel_300\\1066639516.py:2: FutureWarning: Series.fillna with 'method' is deprecated and will raise in a future version. Use obj.ffill() or obj.bfill() instead.\n",
      "  data2[\"bathrooms_text\"] = data2[\"bathrooms_text\"].fillna(method=\"ffill\")\n"
     ]
    }
   ],
   "source": [
    "#Quinto método de sustitución de valores nulos \"forward ffill\" (\"ffill\")\n",
    "data2[\"bathrooms_text\"] = data2[\"bathrooms_text\"].fillna(method=\"ffill\")"
   ]
  },
  {
   "cell_type": "code",
   "execution_count": 43,
   "metadata": {},
   "outputs": [
    {
     "name": "stdout",
     "output_type": "stream",
     "text": [
      "bedrooms                        715\n",
      "beds                           2201\n",
      "price                          2195\n",
      "has_availability                309\n",
      "first_review                   2071\n",
      "last_review                    2071\n",
      "review_scores_rating           2071\n",
      "review_scores_accuracy         2071\n",
      "review_scores_cleanliness      2071\n",
      "review_scores_checkin          2071\n",
      "review_scores_communication    2071\n",
      "review_scores_location         2071\n",
      "review_scores_value            2071\n",
      "reviews_per_month              2071\n",
      "dtype: int64\n"
     ]
    }
   ],
   "source": [
    "# Identificar y mostrar columnas con valores nulos\n",
    "valores_nulos = data2.isnull().sum()\n",
    "valores_nulos = valores_nulos[valores_nulos > 0]  # Filtrar solo columnas con nulos\n",
    "\n",
    "print(valores_nulos)"
   ]
  },
  {
   "cell_type": "code",
   "execution_count": 44,
   "metadata": {},
   "outputs": [],
   "source": [
    "#Segundo método de sustitución de valores nulos\n",
    "#Sustituir valores nulos con mediana \n",
    "data2['bedrooms'] = data2[\"bedrooms\"].fillna(round(data[\"bedrooms\"].median(),1))"
   ]
  },
  {
   "cell_type": "code",
   "execution_count": 45,
   "metadata": {},
   "outputs": [
    {
     "name": "stdout",
     "output_type": "stream",
     "text": [
      "beds                           2201\n",
      "price                          2195\n",
      "has_availability                309\n",
      "first_review                   2071\n",
      "last_review                    2071\n",
      "review_scores_rating           2071\n",
      "review_scores_accuracy         2071\n",
      "review_scores_cleanliness      2071\n",
      "review_scores_checkin          2071\n",
      "review_scores_communication    2071\n",
      "review_scores_location         2071\n",
      "review_scores_value            2071\n",
      "reviews_per_month              2071\n",
      "dtype: int64\n"
     ]
    }
   ],
   "source": [
    "# Identificar y mostrar columnas con valores nulos\n",
    "valores_nulos = data2.isnull().sum()\n",
    "valores_nulos = valores_nulos[valores_nulos > 0]  # Filtrar solo columnas con nulos\n",
    "\n",
    "print(valores_nulos)"
   ]
  },
  {
   "cell_type": "code",
   "execution_count": 66,
   "metadata": {},
   "outputs": [
    {
     "data": {
      "text/plain": [
       "dtype('float64')"
      ]
     },
     "execution_count": 66,
     "metadata": {},
     "output_type": "execute_result"
    }
   ],
   "source": [
    "info = data2['review_scores_rating'].dtype\n",
    "info"
   ]
  },
  {
   "cell_type": "code",
   "execution_count": 47,
   "metadata": {},
   "outputs": [],
   "source": [
    "#Primer método de sustitución de valores nulos\n",
    "#Sustituir nulos con promedio o media\n",
    "data2[\"beds\"] = data2[\"beds\"].fillna(round(data[\"beds\"].mean(),1))"
   ]
  },
  {
   "cell_type": "code",
   "execution_count": 48,
   "metadata": {},
   "outputs": [
    {
     "name": "stdout",
     "output_type": "stream",
     "text": [
      "price                          2195\n",
      "has_availability                309\n",
      "first_review                   2071\n",
      "last_review                    2071\n",
      "review_scores_rating           2071\n",
      "review_scores_accuracy         2071\n",
      "review_scores_cleanliness      2071\n",
      "review_scores_checkin          2071\n",
      "review_scores_communication    2071\n",
      "review_scores_location         2071\n",
      "review_scores_value            2071\n",
      "reviews_per_month              2071\n",
      "dtype: int64\n"
     ]
    }
   ],
   "source": [
    "# Identificar y mostrar columnas con valores nulos\n",
    "valores_nulos = data2.isnull().sum()\n",
    "valores_nulos = valores_nulos[valores_nulos > 0]  # Filtrar solo columnas con nulos\n",
    "\n",
    "print(valores_nulos)"
   ]
  },
  {
   "cell_type": "code",
   "execution_count": 56,
   "metadata": {},
   "outputs": [
    {
     "name": "stderr",
     "output_type": "stream",
     "text": [
      "C:\\Users\\ramos\\AppData\\Local\\Temp\\ipykernel_300\\3452979457.py:4: FutureWarning: Series.fillna with 'method' is deprecated and will raise in a future version. Use obj.ffill() or obj.bfill() instead.\n",
      "  data2[\"price\"] = data2[\"price\"].fillna(method=\"ffill\")\n"
     ]
    }
   ],
   "source": [
    "#Quinto método de sustitución de valores nulos \n",
    "#Sustituir valores nulos por valores no nulos hacia adelante \"forward fill\" (\"ffill\")\n",
    "#Filtro por columnas\n",
    "data2[\"price\"] = data2[\"price\"].fillna(method=\"ffill\")"
   ]
  },
  {
   "cell_type": "code",
   "execution_count": 57,
   "metadata": {},
   "outputs": [
    {
     "name": "stdout",
     "output_type": "stream",
     "text": [
      "has_availability                309\n",
      "first_review                   2071\n",
      "last_review                    2071\n",
      "review_scores_rating           2071\n",
      "review_scores_accuracy         2071\n",
      "review_scores_cleanliness      2071\n",
      "review_scores_checkin          2071\n",
      "review_scores_communication    2071\n",
      "review_scores_location         2071\n",
      "review_scores_value            2071\n",
      "reviews_per_month              2071\n",
      "dtype: int64\n"
     ]
    }
   ],
   "source": [
    "# Identificar y mostrar columnas con valores nulos\n",
    "valores_nulos = data2.isnull().sum()\n",
    "valores_nulos = valores_nulos[valores_nulos > 0]  # Filtrar solo columnas con nulos\n",
    "\n",
    "print(valores_nulos)"
   ]
  },
  {
   "cell_type": "code",
   "execution_count": 58,
   "metadata": {},
   "outputs": [
    {
     "name": "stderr",
     "output_type": "stream",
     "text": [
      "C:\\Users\\ramos\\AppData\\Local\\Temp\\ipykernel_300\\159739365.py:4: FutureWarning: Series.fillna with 'method' is deprecated and will raise in a future version. Use obj.ffill() or obj.bfill() instead.\n",
      "  data2[\"has_availability\"] = data2[\"has_availability\"].fillna(method=\"bfill\")\n"
     ]
    }
   ],
   "source": [
    "#Sexto método de sustitución de valores nulos \n",
    "#Sustituir valores nulos por valores no nulos hacia atrás backward fill (\"bfill\")\n",
    "#Filtro por columnas \n",
    "data2[\"has_availability\"] = data2[\"has_availability\"].fillna(method=\"bfill\")"
   ]
  },
  {
   "cell_type": "code",
   "execution_count": 59,
   "metadata": {},
   "outputs": [
    {
     "name": "stdout",
     "output_type": "stream",
     "text": [
      "first_review                   2071\n",
      "last_review                    2071\n",
      "review_scores_rating           2071\n",
      "review_scores_accuracy         2071\n",
      "review_scores_cleanliness      2071\n",
      "review_scores_checkin          2071\n",
      "review_scores_communication    2071\n",
      "review_scores_location         2071\n",
      "review_scores_value            2071\n",
      "reviews_per_month              2071\n",
      "dtype: int64\n"
     ]
    }
   ],
   "source": [
    "# Identificar y mostrar columnas con valores nulos\n",
    "valores_nulos = data2.isnull().sum()\n",
    "valores_nulos = valores_nulos[valores_nulos > 0]  # Filtrar solo columnas con nulos\n",
    "\n",
    "print(valores_nulos)"
   ]
  },
  {
   "cell_type": "code",
   "execution_count": 62,
   "metadata": {},
   "outputs": [],
   "source": [
    "#Cuarto método de sustitución de valores nulos\n",
    "#Sustituir valores nulos por string en concreto\n",
    "data2[\"first_review\"] = data2[\"first_review\"].fillna(\"2011-06-19\")"
   ]
  },
  {
   "cell_type": "code",
   "execution_count": 63,
   "metadata": {},
   "outputs": [
    {
     "name": "stdout",
     "output_type": "stream",
     "text": [
      "last_review                    2071\n",
      "review_scores_rating           2071\n",
      "review_scores_accuracy         2071\n",
      "review_scores_cleanliness      2071\n",
      "review_scores_checkin          2071\n",
      "review_scores_communication    2071\n",
      "review_scores_location         2071\n",
      "review_scores_value            2071\n",
      "reviews_per_month              2071\n",
      "dtype: int64\n"
     ]
    }
   ],
   "source": [
    "# Identificar y mostrar columnas con valores nulos\n",
    "valores_nulos = data2.isnull().sum()\n",
    "valores_nulos = valores_nulos[valores_nulos > 0]  # Filtrar solo columnas con nulos\n",
    "\n",
    "print(valores_nulos)"
   ]
  },
  {
   "cell_type": "code",
   "execution_count": 64,
   "metadata": {},
   "outputs": [],
   "source": [
    "#Cuarto método de sustitución de valores nulos\n",
    "#Sustituir valores nulos por string en concreto\n",
    "data2[\"last_review\"] = data2[\"last_review\"].fillna(\"2024-12-05\")"
   ]
  },
  {
   "cell_type": "code",
   "execution_count": 65,
   "metadata": {},
   "outputs": [
    {
     "name": "stdout",
     "output_type": "stream",
     "text": [
      "review_scores_rating           2071\n",
      "review_scores_accuracy         2071\n",
      "review_scores_cleanliness      2071\n",
      "review_scores_checkin          2071\n",
      "review_scores_communication    2071\n",
      "review_scores_location         2071\n",
      "review_scores_value            2071\n",
      "reviews_per_month              2071\n",
      "dtype: int64\n"
     ]
    }
   ],
   "source": [
    "# Identificar y mostrar columnas con valores nulos\n",
    "valores_nulos = data2.isnull().sum()\n",
    "valores_nulos = valores_nulos[valores_nulos > 0]  # Filtrar solo columnas con nulos\n",
    "\n",
    "print(valores_nulos)"
   ]
  },
  {
   "cell_type": "code",
   "execution_count": 67,
   "metadata": {},
   "outputs": [],
   "source": [
    "#Segundo método de sustitución de valores nulos\n",
    "#Sustituir valores nulos con mediana \n",
    "data2['review_scores_rating'] = data2[\"review_scores_rating\"].fillna(round(data[\"review_scores_rating\"].median(),1))"
   ]
  },
  {
   "cell_type": "code",
   "execution_count": 68,
   "metadata": {},
   "outputs": [
    {
     "name": "stdout",
     "output_type": "stream",
     "text": [
      "review_scores_accuracy         2071\n",
      "review_scores_cleanliness      2071\n",
      "review_scores_checkin          2071\n",
      "review_scores_communication    2071\n",
      "review_scores_location         2071\n",
      "review_scores_value            2071\n",
      "reviews_per_month              2071\n",
      "dtype: int64\n"
     ]
    }
   ],
   "source": [
    "# Identificar y mostrar columnas con valores nulos\n",
    "valores_nulos = data2.isnull().sum()\n",
    "valores_nulos = valores_nulos[valores_nulos > 0]  # Filtrar solo columnas con nulos\n",
    "\n",
    "print(valores_nulos)"
   ]
  },
  {
   "cell_type": "code",
   "execution_count": 69,
   "metadata": {},
   "outputs": [],
   "source": [
    "#Primer método de sustitución de valores nulos\n",
    "#Sustituir nulos con promedio o media\n",
    "data2[\"review_scores_accuracy\"] = data2[\"review_scores_accuracy\"].fillna(round(data[\"review_scores_accuracy\"].mean(),1))"
   ]
  },
  {
   "cell_type": "code",
   "execution_count": 70,
   "metadata": {},
   "outputs": [
    {
     "name": "stdout",
     "output_type": "stream",
     "text": [
      "review_scores_cleanliness      2071\n",
      "review_scores_checkin          2071\n",
      "review_scores_communication    2071\n",
      "review_scores_location         2071\n",
      "review_scores_value            2071\n",
      "reviews_per_month              2071\n",
      "dtype: int64\n"
     ]
    }
   ],
   "source": [
    "# Identificar y mostrar columnas con valores nulos\n",
    "valores_nulos = data2.isnull().sum()\n",
    "valores_nulos = valores_nulos[valores_nulos > 0]  # Filtrar solo columnas con nulos\n",
    "\n",
    "print(valores_nulos)"
   ]
  },
  {
   "cell_type": "code",
   "execution_count": 71,
   "metadata": {},
   "outputs": [
    {
     "name": "stderr",
     "output_type": "stream",
     "text": [
      "C:\\Users\\ramos\\AppData\\Local\\Temp\\ipykernel_300\\259634069.py:2: FutureWarning: Series.fillna with 'method' is deprecated and will raise in a future version. Use obj.ffill() or obj.bfill() instead.\n",
      "  data2[\"review_scores_cleanliness\"] = data2[\"review_scores_cleanliness\"].fillna(method=\"ffill\")\n"
     ]
    }
   ],
   "source": [
    "#Quinto método de sustitución de valores nulos \n",
    "data2[\"review_scores_cleanliness\"] = data2[\"review_scores_cleanliness\"].fillna(method=\"ffill\")"
   ]
  },
  {
   "cell_type": "code",
   "execution_count": 72,
   "metadata": {},
   "outputs": [
    {
     "name": "stdout",
     "output_type": "stream",
     "text": [
      "review_scores_checkin          2071\n",
      "review_scores_communication    2071\n",
      "review_scores_location         2071\n",
      "review_scores_value            2071\n",
      "reviews_per_month              2071\n",
      "dtype: int64\n"
     ]
    }
   ],
   "source": [
    "# Identificar y mostrar columnas con valores nulos\n",
    "valores_nulos = data2.isnull().sum()\n",
    "valores_nulos = valores_nulos[valores_nulos > 0]  # Filtrar solo columnas con nulos\n",
    "\n",
    "print(valores_nulos)"
   ]
  },
  {
   "cell_type": "code",
   "execution_count": 73,
   "metadata": {},
   "outputs": [
    {
     "name": "stderr",
     "output_type": "stream",
     "text": [
      "C:\\Users\\ramos\\AppData\\Local\\Temp\\ipykernel_300\\869953326.py:2: FutureWarning: Series.fillna with 'method' is deprecated and will raise in a future version. Use obj.ffill() or obj.bfill() instead.\n",
      "  data2[\"review_scores_checkin\"] = data2[\"review_scores_checkin\"].fillna(method=\"bfill\")\n"
     ]
    }
   ],
   "source": [
    "#Sexto método de sustitución de valores nulos \n",
    "data2[\"review_scores_checkin\"] = data2[\"review_scores_checkin\"].fillna(method=\"bfill\")"
   ]
  },
  {
   "cell_type": "code",
   "execution_count": 74,
   "metadata": {},
   "outputs": [
    {
     "name": "stdout",
     "output_type": "stream",
     "text": [
      "review_scores_checkin           112\n",
      "review_scores_communication    2071\n",
      "review_scores_location         2071\n",
      "review_scores_value            2071\n",
      "reviews_per_month              2071\n",
      "dtype: int64\n"
     ]
    }
   ],
   "source": [
    "# Identificar y mostrar columnas con valores nulos\n",
    "valores_nulos = data2.isnull().sum()\n",
    "valores_nulos = valores_nulos[valores_nulos > 0]  # Filtrar solo columnas con nulos\n",
    "\n",
    "print(valores_nulos)"
   ]
  },
  {
   "cell_type": "code",
   "execution_count": 75,
   "metadata": {},
   "outputs": [],
   "source": [
    "data2[\"review_scores_checkin\"] = data2[\"review_scores_checkin\"].fillna(round(data[\"review_scores_checkin\"].mean(),1))"
   ]
  },
  {
   "cell_type": "code",
   "execution_count": 76,
   "metadata": {},
   "outputs": [
    {
     "name": "stdout",
     "output_type": "stream",
     "text": [
      "review_scores_communication    2071\n",
      "review_scores_location         2071\n",
      "review_scores_value            2071\n",
      "reviews_per_month              2071\n",
      "dtype: int64\n"
     ]
    }
   ],
   "source": [
    "# Identificar y mostrar columnas con valores nulos\n",
    "valores_nulos = data2.isnull().sum()\n",
    "valores_nulos = valores_nulos[valores_nulos > 0]  # Filtrar solo columnas con nulos\n",
    "\n",
    "print(valores_nulos)"
   ]
  },
  {
   "cell_type": "code",
   "execution_count": 77,
   "metadata": {},
   "outputs": [],
   "source": [
    "data2[\"review_scores_communication\"] = data2[\"review_scores_communication\"].fillna(round(data[\"review_scores_communication\"].median(),1))"
   ]
  },
  {
   "cell_type": "code",
   "execution_count": 78,
   "metadata": {},
   "outputs": [
    {
     "name": "stdout",
     "output_type": "stream",
     "text": [
      "review_scores_location    2071\n",
      "review_scores_value       2071\n",
      "reviews_per_month         2071\n",
      "dtype: int64\n"
     ]
    }
   ],
   "source": [
    "# Identificar y mostrar columnas con valores nulos\n",
    "valores_nulos = data2.isnull().sum()\n",
    "valores_nulos = valores_nulos[valores_nulos > 0]  # Filtrar solo columnas con nulos\n",
    "\n",
    "print(valores_nulos)"
   ]
  },
  {
   "cell_type": "code",
   "execution_count": 79,
   "metadata": {},
   "outputs": [],
   "source": [
    "data2[\"review_scores_location\"] = data2[\"review_scores_location\"].fillna(round(data[\"review_scores_location\"].median(),1))"
   ]
  },
  {
   "cell_type": "code",
   "execution_count": 80,
   "metadata": {},
   "outputs": [
    {
     "name": "stdout",
     "output_type": "stream",
     "text": [
      "review_scores_value    2071\n",
      "reviews_per_month      2071\n",
      "dtype: int64\n"
     ]
    }
   ],
   "source": [
    "# Identificar y mostrar columnas con valores nulos\n",
    "valores_nulos = data2.isnull().sum()\n",
    "valores_nulos = valores_nulos[valores_nulos > 0]  # Filtrar solo columnas con nulos\n",
    "\n",
    "print(valores_nulos)"
   ]
  },
  {
   "cell_type": "code",
   "execution_count": 81,
   "metadata": {},
   "outputs": [
    {
     "name": "stderr",
     "output_type": "stream",
     "text": [
      "C:\\Users\\ramos\\AppData\\Local\\Temp\\ipykernel_300\\3715941985.py:4: FutureWarning: Series.fillna with 'method' is deprecated and will raise in a future version. Use obj.ffill() or obj.bfill() instead.\n",
      "  data2[\"review_scores_value\"] = data2[\"review_scores_value\"].fillna(method=\"ffill\")\n"
     ]
    }
   ],
   "source": [
    "#Quinto método de sustitución de valores nulos \n",
    "#Sustituir valores nulos por valores no nulos hacia adelante \"forward fill\" (\"ffill\")\n",
    "#Filtro por columnas\n",
    "data2[\"review_scores_value\"] = data2[\"review_scores_value\"].fillna(method=\"ffill\")"
   ]
  },
  {
   "cell_type": "code",
   "execution_count": 82,
   "metadata": {},
   "outputs": [
    {
     "name": "stdout",
     "output_type": "stream",
     "text": [
      "reviews_per_month    2071\n",
      "dtype: int64\n"
     ]
    }
   ],
   "source": [
    "# Identificar y mostrar columnas con valores nulos\n",
    "valores_nulos = data2.isnull().sum()\n",
    "valores_nulos = valores_nulos[valores_nulos > 0]  # Filtrar solo columnas con nulos\n",
    "\n",
    "print(valores_nulos)"
   ]
  },
  {
   "cell_type": "code",
   "execution_count": 85,
   "metadata": {},
   "outputs": [
    {
     "name": "stderr",
     "output_type": "stream",
     "text": [
      "C:\\Users\\ramos\\AppData\\Local\\Temp\\ipykernel_300\\2191179178.py:4: FutureWarning: Series.fillna with 'method' is deprecated and will raise in a future version. Use obj.ffill() or obj.bfill() instead.\n",
      "  data2[\"reviews_per_month\"] = data2[\"reviews_per_month\"].fillna(method=\"ffill\")\n"
     ]
    }
   ],
   "source": [
    "data2[\"reviews_per_month\"] = data2[\"reviews_per_month\"].fillna(method=\"ffill\")"
   ]
  },
  {
   "cell_type": "code",
   "execution_count": 86,
   "metadata": {},
   "outputs": [
    {
     "name": "stdout",
     "output_type": "stream",
     "text": [
      "Series([], dtype: int64)\n"
     ]
    }
   ],
   "source": [
    "# Identificar y mostrar columnas con valores nulos\n",
    "valores_nulos = data2.isnull().sum()\n",
    "valores_nulos = valores_nulos[valores_nulos > 0]  # Filtrar solo columnas con nulos\n",
    "\n",
    "print(valores_nulos)"
   ]
  },
  {
   "cell_type": "code",
   "execution_count": 87,
   "metadata": {},
   "outputs": [
    {
     "data": {
      "text/plain": [
       "np.int64(0)"
      ]
     },
     "execution_count": 87,
     "metadata": {},
     "output_type": "execute_result"
    }
   ],
   "source": [
    "#Identificar valores nulos por dataframe\n",
    "valores_nulos = data2.isnull().sum().sum()\n",
    "valores_nulos"
   ]
  },
  {
   "cell_type": "code",
   "execution_count": 88,
   "metadata": {},
   "outputs": [
    {
     "data": {
      "text/plain": [
       "id                                              0\n",
       "listing_url                                     0\n",
       "host_id                                         0\n",
       "host_since                                      0\n",
       "host_response_time                              0\n",
       "host_response_rate                              0\n",
       "host_acceptance_rate                            0\n",
       "host_is_superhost                               0\n",
       "host_listings_count                             0\n",
       "host_total_listings_count                       0\n",
       "host_verifications                              0\n",
       "neighbourhood_cleansed                          0\n",
       "latitude                                        0\n",
       "longitude                                       0\n",
       "property_type                                   0\n",
       "room_type                                       0\n",
       "accommodates                                    0\n",
       "bathrooms                                       0\n",
       "bathrooms_text                                  0\n",
       "bedrooms                                        0\n",
       "beds                                            0\n",
       "amenities                                       0\n",
       "price                                           0\n",
       "minimum_nights                                  0\n",
       "maximum_nights                                  0\n",
       "minimum_nights_avg_ntm                          0\n",
       "maximum_nights_avg_ntm                          0\n",
       "has_availability                                0\n",
       "availability_30                                 0\n",
       "availability_60                                 0\n",
       "availability_90                                 0\n",
       "availability_365                                0\n",
       "number_of_reviews                               0\n",
       "number_of_reviews_ltm                           0\n",
       "number_of_reviews_l30d                          0\n",
       "first_review                                    0\n",
       "last_review                                     0\n",
       "review_scores_rating                            0\n",
       "review_scores_accuracy                          0\n",
       "review_scores_cleanliness                       0\n",
       "review_scores_checkin                           0\n",
       "review_scores_communication                     0\n",
       "review_scores_location                          0\n",
       "review_scores_value                             0\n",
       "instant_bookable                                0\n",
       "calculated_host_listings_count                  0\n",
       "calculated_host_listings_count_entire_homes     0\n",
       "calculated_host_listings_count_private_rooms    0\n",
       "calculated_host_listings_count_shared_rooms     0\n",
       "reviews_per_month                               0\n",
       "dtype: int64"
      ]
     },
     "execution_count": 88,
     "metadata": {},
     "output_type": "execute_result"
    }
   ],
   "source": [
    "#Identificar valores nulos por dataframe\n",
    "valores_nulos = data2.isnull().sum()\n",
    "valores_nulos"
   ]
  },
  {
   "cell_type": "markdown",
   "metadata": {},
   "source": [
    "**Convertir DataSet sin valores nulos a CSV**"
   ]
  },
  {
   "cell_type": "code",
   "execution_count": 89,
   "metadata": {},
   "outputs": [],
   "source": [
    "#Convertir DataFrame a CSV\n",
    "data2.to_csv(\"listing_pais_sin_nulos.csv\")"
   ]
  }
 ],
 "metadata": {
  "kernelspec": {
   "display_name": "Python 3",
   "language": "python",
   "name": "python3"
  },
  "language_info": {
   "codemirror_mode": {
    "name": "ipython",
    "version": 3
   },
   "file_extension": ".py",
   "mimetype": "text/x-python",
   "name": "python",
   "nbconvert_exporter": "python",
   "pygments_lexer": "ipython3",
   "version": "3.12.6"
  }
 },
 "nbformat": 4,
 "nbformat_minor": 2
}
